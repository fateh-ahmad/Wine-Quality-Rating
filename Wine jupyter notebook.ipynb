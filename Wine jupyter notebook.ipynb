{
 "cells": [
  {
   "cell_type": "code",
   "execution_count": 1,
   "metadata": {},
   "outputs": [],
   "source": [
    "import pandas as pd\n",
    "import numpy as np\n",
    "from scipy.stats import mode\n",
    "import random\n",
    "\n",
    "# import libraries for applying machine learning models\n",
    "from sklearn.model_selection import train_test_split\n",
    "from sklearn.linear_model import LogisticRegression\n",
    "from sklearn.svm import SVC\n",
    "from sklearn.naive_bayes import GaussianNB\n",
    "from sklearn.neighbors import KNeighborsClassifier\n",
    "\n",
    "# import library for plotting charts\n",
    "import matplotlib.pyplot as plt\n",
    "from matplotlib.pyplot import figure\n",
    "\n",
    "# read dataframe\n",
    "df = pd.read_csv('wine.csv')\n",
    "# split dataframe into training and testing set\n",
    "from sklearn.model_selection import train_test_split\n",
    "train, test = train_test_split(df, test_size = 0.3)"
   ]
  },
  {
   "cell_type": "code",
   "execution_count": 2,
   "metadata": {},
   "outputs": [],
   "source": [
    "# checking the dataset\n",
    "# df.head()"
   ]
  },
  {
   "cell_type": "markdown",
   "metadata": {},
   "source": [
    "# Part 1"
   ]
  },
  {
   "cell_type": "code",
   "execution_count": 3,
   "metadata": {},
   "outputs": [],
   "source": [
    "## (a)\n",
    "def get_pred_logreg(train, test):\n",
    "    # get dummy variables for categorical and object type values in columns\n",
    "    train = pd.get_dummies(train, drop_first = True)\n",
    "    test = pd.get_dummies(test, drop_first = True)\n",
    "    \n",
    "    # check to see if train and test data is Series or DataFrame object\n",
    "    if isinstance(train, pd.DataFrame):\n",
    "        X_train = train.iloc[:, :-1].values # get X train data by getting all the columns except last\n",
    "        X_test = test.iloc[:, :-1].values # get X test data by getting all the columns except last\n",
    "        y_train = train.iloc[:, -1].values # get y train data by getting only the last column\n",
    "        y_test = test.iloc[:, -1].values # get y test data by getting only the last column\n",
    "    else:\n",
    "        X_train = train[:, :-1] # get X train data by getting all the columns except last\n",
    "        X_test = test[:, :-1] # get X test data by getting all the columns except last\n",
    "        y_train = train[:, -1] # get y train data by getting only the last column\n",
    "        y_test = test[:, -1] # get y test data by getting only the last column\n",
    "    \n",
    "    regressor = LogisticRegression()\n",
    "    regressor.fit(X_train, y_train) # fit regressor model on training data`\n",
    "    y_pred_proba = regressor.predict_proba(X_test)[:,0] # predict y values using X test data and fitting the trained regressor model\n",
    "    \n",
    "    dataFrame_out = pd.DataFrame(data = y_pred_proba, columns = ['Prediction_Output_of_0'])\n",
    "    dataFrame_out['Actual_Output'] = y_test\n",
    "    \n",
    "    return dataFrame_out"
   ]
  },
  {
   "cell_type": "code",
   "execution_count": 4,
   "metadata": {},
   "outputs": [],
   "source": [
    "# Test the logreg function\n",
    "# func = get_pred_logreg(train, test)\n",
    "# func.head()"
   ]
  },
  {
   "cell_type": "code",
   "execution_count": 5,
   "metadata": {},
   "outputs": [],
   "source": [
    "# (b)\n",
    "def get_pred_svm(train, test):\n",
    "    # get dummy variables for categorical and object type values in columns\n",
    "    train = pd.get_dummies(train, drop_first = True)\n",
    "    test = pd.get_dummies(test, drop_first = True)\n",
    "    \n",
    "    # check to see if train and test data is Series or DataFrame object\n",
    "    if isinstance(train, pd.DataFrame):\n",
    "        X_train = train.iloc[:, :-1].values # get X train data by getting all the columns except last\n",
    "        X_test = test.iloc[:, :-1].values # get X test data by getting all the columns except last\n",
    "        y_train = train.iloc[:, -1].values # get y train data by getting only the last column\n",
    "        y_test = test.iloc[:, -1].values # get y test data by getting only the last column\n",
    "    else:\n",
    "        X_train = train[:, :-1] # get X train data by getting all the columns except last\n",
    "        X_test = test[:, :-1] # get X test data by getting all the columns except last\n",
    "        y_train = train[:, -1] # get y train data by getting only the last column\n",
    "        y_test = test[:, -1] # get y test data by getting only the last column\n",
    "    \n",
    "    classifier = SVC(kernel = 'rbf', random_state = 0, probability = True)\n",
    "\n",
    "    classifier.fit(X_train, y_train) # fit regressor model on training data`\n",
    "    y_pred_proba = classifier.predict_proba(X_test)[:,0] # predict y values using X test data and fitting the trained regressor model\n",
    "    \n",
    "    dataFrame_out = pd.DataFrame(data = y_pred_proba, columns = ['Prediction_Output_of_0'])\n",
    "    dataFrame_out['Actual_Output'] = y_test\n",
    "    \n",
    "    return dataFrame_out"
   ]
  },
  {
   "cell_type": "code",
   "execution_count": 6,
   "metadata": {},
   "outputs": [],
   "source": [
    "# Test the svm function\n",
    "# func = get_pred_svm(train, test)\n",
    "# func.head()"
   ]
  },
  {
   "cell_type": "code",
   "execution_count": 7,
   "metadata": {},
   "outputs": [],
   "source": [
    "# (c)\n",
    "def get_pred_nb(train, test):\n",
    "    # get dummy variables for categorical and object type values in columns\n",
    "    train = pd.get_dummies(train, drop_first = True)\n",
    "    test = pd.get_dummies(test, drop_first = True)    \n",
    "\n",
    "    # check to see if train and test data is Series or DataFrame object\n",
    "    if isinstance(train, pd.DataFrame):\n",
    "        X_train = train.iloc[:, :-1].values # get X train data by getting all the columns except last\n",
    "        X_test = test.iloc[:, :-1].values # get X test data by getting all the columns except last\n",
    "        y_train = train.iloc[:, -1].values # get y train data by getting only the last column\n",
    "        y_test = test.iloc[:, -1].values # get y test data by getting only the last column\n",
    "    else:\n",
    "        X_train = train[:, :-1] # get X train data by getting all the columns except last\n",
    "        X_test = test[:, :-1] # get X test data by getting all the columns except last\n",
    "        y_train = train[:, -1] # get y train data by getting only the last column\n",
    "        y_test = test[:, -1] # get y test data by getting only the last column\n",
    "    \n",
    "    classifier = GaussianNB()\n",
    "    classifier.fit(X_train, y_train) # fit regressor model on training data`\n",
    "\n",
    "    y_pred_proba = classifier.predict_proba(X_test)[:,0] # predict y values using X test data and fitting the trained regressor model\n",
    "    \n",
    "    dataFrame_out = pd.DataFrame(data = y_pred_proba, columns = ['Prediction_Output_of_0'])\n",
    "    dataFrame_out['Actual_Output'] = y_test\n",
    "    \n",
    "    return dataFrame_out"
   ]
  },
  {
   "cell_type": "code",
   "execution_count": 8,
   "metadata": {},
   "outputs": [],
   "source": [
    "# Test the nb function\n",
    "# func = get_pred_nb(train, test)\n",
    "# func.head()"
   ]
  },
  {
   "cell_type": "code",
   "execution_count": 9,
   "metadata": {},
   "outputs": [],
   "source": [
    "# (d)\n",
    "def get_pred_knn(train, test, k):\n",
    "    # get dummy variables for categorical and object type values in columns\n",
    "    train = pd.get_dummies(train, drop_first = True)\n",
    "    test = pd.get_dummies(test, drop_first = True)\n",
    "    \n",
    "    # check to see if train and test data is Series or DataFrame object\n",
    "    if isinstance(train, pd.DataFrame):\n",
    "        X_train = train.iloc[:, :-1].values # get X train data by getting all the columns except last\n",
    "        X_test = test.iloc[:, :-1].values # get X test data by getting all the columns except last\n",
    "        y_train = train.iloc[:, -1].values # get y train data by getting only the last column\n",
    "        y_test = test.iloc[:, -1].values # get y test data by getting only the last column\n",
    "    else:\n",
    "        X_train = train[:, :-1] # get X train data by getting all the columns except last\n",
    "        X_test = test[:, :-1] # get X test data by getting all the columns except last\n",
    "        y_train = train[:, -1] # get y train data by getting only the last column\n",
    "        y_test = test[:, -1] # get y test data by getting only the last column\n",
    "    \n",
    "    classifier = KNeighborsClassifier(n_neighbors = k, weights = 'uniform')\n",
    "    classifier.fit(X_train, y_train) # fit regressor model on training data`\n",
    "\n",
    "    y_pred_proba = classifier.predict_proba(X_test)[:,0] # predict y values using X test data and fitting the trained regressor model\n",
    "    \n",
    "    dataFrame_out = pd.DataFrame(data = y_pred_proba, columns = ['Prediction_Output_of_0'])\n",
    "    dataFrame_out['Actual_Output'] = y_test\n",
    "    \n",
    "    return dataFrame_out"
   ]
  },
  {
   "cell_type": "code",
   "execution_count": 10,
   "metadata": {},
   "outputs": [],
   "source": [
    "# Test the knn function\n",
    "#func = get_pred_knn(train, test, 3)\n",
    "#func.head()"
   ]
  },
  {
   "cell_type": "markdown",
   "metadata": {},
   "source": [
    "# Part 2"
   ]
  },
  {
   "cell_type": "code",
   "execution_count": 11,
   "metadata": {},
   "outputs": [],
   "source": [
    "def do_cv_class(df, num_folds, model_name):\n",
    "    # get dummy variables for categorical and object type values in columns\n",
    "    df = pd.get_dummies(df, drop_first = True)\n",
    "    \n",
    "    # create an empty dataFrame for the return\n",
    "    resultingDataFrame = pd.DataFrame(columns=['Prediction_Output_of_0', 'Actual_Output', 'Fold']) \n",
    "    # generate random uniqe numbers in a range\n",
    "    listOfRandomNumber = random.sample(range(0, len(df.index)), len(df.index))\n",
    "    # create a column giving random number to each row in dataset\n",
    "    df['Rand_Index'] = listOfRandomNumber\n",
    "    # sort the dataset based on random index for train and test split\n",
    "    dataFrametestSorted = df.sort_values('Rand_Index', ascending=False)\n",
    "\n",
    "    # create data blocks for applying the k fold cross validation\n",
    "    evenSets = round(len(dataFrametestSorted.index) / num_folds)\n",
    "    oddSet = len(dataFrametestSorted.index) - ((evenSets * (num_folds - 1)))\n",
    "\n",
    "    start = 0;\n",
    "    stop = oddSet\n",
    "    # create a loop to apply cross validation and store results\n",
    "    for counter in range(num_folds):\n",
    "        test = dataFrametestSorted.iloc[start:stop, :-1]\n",
    "        train = dataFrametestSorted[~dataFrametestSorted.index.isin(test.index)]\n",
    "        train = train.iloc[:, :-1]\n",
    "        if (model_name == 'logreg'):\n",
    "                modelOutput = get_pred_logreg(train, test)\n",
    "                modelOutput['Fold'] = counter + 1\n",
    "                resultingDataFrame = resultingDataFrame.append(other = modelOutput)            \n",
    "        elif (model_name == 'svm'):\n",
    "                modelOutput = get_pred_svm(train, test)\n",
    "                modelOutput['Fold'] = counter + 1\n",
    "                resultingDataFrame = resultingDataFrame.append(other = modelOutput)\n",
    "                counter += 1            \n",
    "        elif (model_name == 'nb'):\n",
    "                modelOutput = get_pred_nb(train, test)\n",
    "                modelOutput['Fold'] = counter + 1\n",
    "                resultingDataFrame = resultingDataFrame.append(other = modelOutput)            \n",
    "                counter += 1\n",
    "        elif ('nn' in model_name):\n",
    "                modelOutput = get_pred_knn(train, test, int(model_name[0]))\n",
    "                modelOutput['Fold'] = counter + 1\n",
    "                resultingDataFrame = resultingDataFrame.append(other = modelOutput)            \n",
    "                counter += 1\n",
    "        \n",
    "        start = stop\n",
    "        stop += evenSets\n",
    "        \n",
    "    return resultingDataFrame"
   ]
  },
  {
   "cell_type": "code",
   "execution_count": 12,
   "metadata": {},
   "outputs": [],
   "source": [
    "# Test the do_cv function for different classifiers\n",
    "#resultingDataFrame = do_cv_class(df, 5, 'logreg')\n",
    "#resultingDataFrame = do_cv_class(df, 5, 'svm')\n",
    "#resultingDataFrame = do_cv_class(df, 5, 'nb')\n",
    "#resultingDataFrame = do_cv_class(df, 5, '5nn')\n",
    "#resultingDataFrame.head()"
   ]
  },
  {
   "cell_type": "markdown",
   "metadata": {},
   "source": [
    "# Part 3"
   ]
  },
  {
   "cell_type": "code",
   "execution_count": 13,
   "metadata": {},
   "outputs": [],
   "source": [
    "def get_metrics(predDF, cutoff = .5):\n",
    "    # adjust the prediction column based on prediction probability and cutoff threshold   \n",
    "    for i in range(predDF.shape[0]):\n",
    "        if (predDF.iloc[i,0] < cutoff):\n",
    "            predDF.iloc[i,0] = 1\n",
    "        else:\n",
    "            predDF.iloc[i,0] = 0\n",
    "\n",
    "    tp = 0\n",
    "    fp = 0\n",
    "    tn = 0\n",
    "    fn = 0\n",
    "\n",
    "    # loop through the dataframe to calculate the values of tp, fp, tn, fn\n",
    "    for i in range(predDF.shape[0]):\n",
    "        if (predDF.iloc[i, 1] == 1):\n",
    "            if (predDF.iloc[i, 0] == 1):\n",
    "                tp = tp + 1\n",
    "            else:\n",
    "                fn = fn + 1\n",
    "        else:\n",
    "            if (predDF.iloc[i, 0] == 0):\n",
    "                tn = tn + 1\n",
    "            else:\n",
    "                fp = fp + 1\n",
    "\n",
    "    # calculate metrics\n",
    "    acc = ((tp + tn) / (tp + tn + fp + fn))\n",
    "    precision = (tp / (tp + fp))\n",
    "    recall = (tp / (tp + fn))\n",
    "    fpr = (fp / (fp + tn))\n",
    "    tpr = (tp / (tp + fn))\n",
    "    \n",
    "    array = np.array([[tpr, fpr, acc, precision, recall]])\n",
    "    elements = pd.DataFrame(data = array, columns=['tpr', 'fpr', 'acc', 'precision', 'recall'])\n",
    "\n",
    "    return elements"
   ]
  },
  {
   "cell_type": "code",
   "execution_count": 14,
   "metadata": {},
   "outputs": [],
   "source": [
    "# Testing the get_metrics function\n",
    "#score = get_metrics(get_pred_logreg(train, test), 0.5)\n",
    "#score = get_metrics(get_pred_svm(train, test), 0.5)\n",
    "#score = get_metrics(get_pred_knn(train, test, 5), 0.5)\n",
    "#score = get_metrics(get_pred_nb(train, test), 0.5)\n",
    "#score"
   ]
  },
  {
   "cell_type": "markdown",
   "metadata": {},
   "source": [
    "# Part 4"
   ]
  },
  {
   "cell_type": "code",
   "execution_count": 20,
   "metadata": {},
   "outputs": [
    {
     "data": {
      "image/png": "[encoded data removed]",
      "text/plain": [
       "<Figure size 640x320 with 1 Axes>"
      ]
     },
     "metadata": {},
     "output_type": "display_data"
    }
   ],
   "source": [
    "## (a)\n",
    "# create an empty data frame to add values of output from do_cv_class function for plotting chart\n",
    "accDataFrame = pd.DataFrame(columns=['Accuracy', 'Nearest Neighbours']) \n",
    "\n",
    "# run k-NN for different values of k\n",
    "for i in range (2, 15):\n",
    "    resultingDataFrame = do_cv_class(df, 10, str(i) +'nn')\n",
    "    scoreTable = get_metrics(resultingDataFrame.iloc[:,:-1])\n",
    "    acc = scoreTable.at[0, 'acc']\n",
    "    accDataFrame.loc[i - 2] = [acc, int(i)]\n",
    "\n",
    "# create a line plot\n",
    "figure(num=None, figsize=(8, 4), dpi=80, facecolor='w', edgecolor='k')\n",
    "\n",
    "plt.style.use('seaborn-whitegrid')\n",
    "plt.plot(accDataFrame.iloc[:,1], accDataFrame.iloc[:,0])\n",
    "plt.xlabel('Nearest Neighbours (k)')\n",
    "plt.ylabel('Accuracy')\n",
    "plt.title('Plot of Accuracy of k-NN classifier with variable Ks')\n",
    "plt.show()"
   ]
  },
  {
   "cell_type": "code",
   "execution_count": 16,
   "metadata": {},
   "outputs": [],
   "source": [
    "## The number of k is 5 which yields the highest accuracy (~83%) for k-NN Classifier. \n",
    "## Where k < 5, the model is being underfitted\n",
    "## Where k > 5, the model is being overfitted"
   ]
  },
  {
   "cell_type": "code",
   "execution_count": 17,
   "metadata": {},
   "outputs": [
    {
     "data": {
      "image/png": "[encoded data removed]",
      "text/plain": [
       "<Figure size 640x320 with 1 Axes>"
      ]
     },
     "metadata": {},
     "output_type": "display_data"
    },
    {
     "name": "stdout",
     "output_type": "stream",
     "text": [
      "The accuracy of default classifier is [0.56454121]\n"
     ]
    },
    {
     "name": "stderr",
     "output_type": "stream",
     "text": [
      "/anaconda3/lib/python3.6/site-packages/scipy/stats/stats.py:245: RuntimeWarning: The input array could not be properly checked for nan values. nan values will be ignored.\n",
      "  \"values. nan values will be ignored.\", RuntimeWarning)\n"
     ]
    }
   ],
   "source": [
    "# create a chart for visualizing the results\n",
    "figure(num=None, figsize=(8, 4), dpi=80, facecolor='w', edgecolor='k')\n",
    "\n",
    "plt.style.use('seaborn-whitegrid')\n",
    "plt.plot(comapre3Models.iloc[:,1], comapre3Models.iloc[:,0])\n",
    "\n",
    "plt.xlabel('Model Name')\n",
    "plt.xticks = models\n",
    "plt.ylabel('Accuracy (on test set)')\n",
    "plt.title('Plot of Accuracy of 3 different parametric models on test set')\n",
    "plt.show()\n",
    "\n",
    "# Calculating accuracy of Default Classifier\n",
    "majorityClass = mode(df.iloc[:,-1])\n",
    "print (\"The accuracy of default classifier is \" + str((majorityClass.count) / (len(df.iloc[:,-1]))))"
   ]
  },
  {
   "cell_type": "code",
   "execution_count": 18,
   "metadata": {},
   "outputs": [],
   "source": [
    "## Naive Bayes has the highest accuracy on test of approximately 82%\n",
    "## The accuracy of default classifier is 56.4% for this data"
   ]
  },
  {
   "cell_type": "code",
   "execution_count": 19,
   "metadata": {},
   "outputs": [],
   "source": [
    "## (c)\n",
    "## The best classifier model on this data is Naive Bayes. It produces the highest accuracy of 82% on test set with\n",
    "## 10 fold cross validation. This is followed by svm and logreg amongst the parametrics models. \n",
    "## We also find out that as the number of k in k-Nearest Neighbours goes below 5, the model tends to underfit data\n",
    "## As k goes above 5, the model seems to overfit the data. k = 5 is the optimal for k-NN classifier for this fata.\n",
    "## All 4 classifiers, logreg, naive bayes, svm and k-nn perform better than the default classifier which gives accuracy of\n",
    "## 56.4% "
   ]
  }
 ],
 "metadata": {
  "kernelspec": {
   "display_name": "Python 3",
   "language": "python",
   "name": "python3"
  },
  "language_info": {
   "codemirror_mode": {
    "name": "ipython",
    "version": 3
   },
   "file_extension": ".py",
   "mimetype": "text/x-python",
   "name": "python",
   "nbconvert_exporter": "python",
   "pygments_lexer": "ipython3",
   "version": "3.6.5"
  }
 },
 "nbformat": 4,
 "nbformat_minor": 2
}
